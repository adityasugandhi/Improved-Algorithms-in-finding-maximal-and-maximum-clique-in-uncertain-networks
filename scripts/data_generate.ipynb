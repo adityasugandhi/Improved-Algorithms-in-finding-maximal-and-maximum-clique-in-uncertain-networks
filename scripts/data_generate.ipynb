{
 "cells": [
  {
   "cell_type": "code",
   "execution_count": 1,
   "metadata": {},
   "outputs": [
    {
     "name": "stdout",
     "output_type": "stream",
     "text": [
      "Maximum Degree: 3\n",
      "Degeneracy: 1\n"
     ]
    }
   ],
   "source": [
    "import networkx as nx\n",
    "\n",
    "# Create an empty graph\n",
    "G = nx.Graph()\n",
    "\n",
    "# Example data format\n",
    "data = [\n",
    "    (333, 322, 1282190082),\n",
    "    (1151, 333, 1282191491),\n",
    "    (662, 333, 1282191827),\n",
    "]\n",
    "\n",
    "# Add edges based on the data format\n",
    "for src, dst, _ in data:\n",
    "    G.add_edge(src, dst)\n",
    "\n",
    "# Calculate the degree of each node\n",
    "degrees = dict(G.degree())\n",
    "\n",
    "# Find the maximum degree\n",
    "max_degree_node = max(degrees, key=degrees.get)\n",
    "max_degree = degrees[max_degree_node]\n",
    "\n",
    "# Calculate the degeneracy\n",
    "min_degree_node = min(degrees, key=degrees.get)\n",
    "degeneracy = degrees[min_degree_node]\n",
    "\n",
    "print(\"Maximum Degree:\", max_degree)\n",
    "print(\"Degeneracy:\", degeneracy)\n"
   ]
  },
  {
   "cell_type": "code",
   "execution_count": 8,
   "metadata": {},
   "outputs": [
    {
     "name": "stdout",
     "output_type": "stream",
     "text": [
      "Edge (1.0, 2.0): Weight=0.18783410259821515, Probability=0.08964172785497948, Timestamp=0.9\n",
      "Edge (2.0, 3.0): Weight=0.5849114421581236, Probability=0.25357170465636414, Timestamp=0.5\n",
      "Edge (2.0, 4.0): Weight=0.19643682685196853, Probability=0.09354909891530505, Timestamp=0.2\n",
      "Edge (3.0, 4.0): Weight=1.4078688173801635, Probability=0.5053646273149085, Timestamp=0.6\n",
      "Edge (3.0, 5.0): Weight=3.7808828580200524, Probability=0.8489948639259183, Timestamp=0.6\n",
      "Edge (3.0, 6.0): Weight=1.561092139480988, Probability=0.5418442420123101, Timestamp=0.4\n",
      "Edge (4.0, 5.0): Weight=0.09774564944535775, Probability=0.04769776870186426, Timestamp=0.1\n",
      "Edge (4.0, 6.0): Weight=1.1507078017235268, Probability=0.4374942376969738, Timestamp=0.8\n",
      "Edge (4.0, 7.0): Weight=0.8190380504418706, Probability=0.3360304740555945, Timestamp=0.1\n",
      "Edge (5.0, 6.0): Weight=2.553091837037487, Probability=0.7210006755580562, Timestamp=0.5\n",
      "Edge (6.0, 7.0): Weight=1.6945036472148476, Probability=0.5714088409259335, Timestamp=0.5\n"
     ]
    }
   ],
   "source": [
    "import networkx as nx\n",
    "import numpy as np\n",
    "\n",
    "# Define the mean (λ) for the exponential distribution\n",
    "lambda_value = 2.0\n",
    "\n",
    "# Initialize an uncertain graph\n",
    "G = nx.Graph()\n",
    "\n",
    "# Read data from a file\n",
    "with open(\"data/example.txt\", \"r\") as file:\n",
    "    for line in file:\n",
    "        u, v, timestamp = map(float, line.strip().split())\n",
    "        \n",
    "        # Generate a random probability puv\n",
    "        wuv = -lambda_value * np.log(1 - np.random.rand())\n",
    "    \n",
    "    # Calculate the probability\n",
    "        puv = 1 - np.exp(-1 / lambda_value)\n",
    "     \n",
    "        # Add the edge with the calculated weight and probability\n",
    "        G.add_edge(u, v, weight=wuv, probability=puv, timestamp=timestamp)\n",
    "\n",
    "# Print the generated graph\n",
    "for u, v, data in G.edges(data=True):\n",
    "    weight = data['weight']\n",
    "    probability = data['probability']\n",
    "    timestamp = data['timestamp']\n",
    "    print(f\"Edge ({u}, {v}): Weight={weight}, Probability={probability}, Timestamp={timestamp}\")\n"
   ]
  },
  {
   "cell_type": "code",
   "execution_count": 3,
   "metadata": {},
   "outputs": [],
   "source": [
    "import gzip\n",
    "import math\n",
    "\n",
    "# Dictionary to store edge weights\n",
    "edge_weights = {}\n",
    "\n",
    "# Uncompress the dataset and read it line by line\n",
    "with open('./data/test.txt', 'rt') as file:\n",
    "    next(file)\n",
    "    for line in file:\n",
    "        src, tgt, unixts = line.split()\n",
    "        edge = (src, tgt)\n",
    "        \n",
    "        # Increment the weight (count) for the edge in the dictionary\n",
    "        if edge in edge_weights:\n",
    "            edge_weights[edge] += 1\n",
    "        else:\n",
    "            edge_weights[edge] = 1\n",
    "\n",
    "# Dictionary to store edge probabilities\n",
    "edge_probabilities = {}\n",
    "\n",
    "# Calculate probabilities using the exponential cumulative distribution with λ = 2\n",
    "for edge, weight in edge_weights.items():\n",
    "    lambda_value = 2.0\n",
    "    probability = 1 - math.exp(-weight / lambda_value)\n",
    "    \n",
    "    # Round off the probability to two decimal places\n",
    "    rounded_probability = round(probability, 2)\n",
    "    \n",
    "    edge_probabilities[edge] = rounded_probability\n",
    "\n",
    "# Get the total number of vertices and edges\n",
    "total_vertices = len(set(v for edge in edge_weights for v in edge))\n",
    "total_edges = len(edge_weights)\n",
    "\n",
    "# Write total vertices and total edges as the first line in the output file\n",
    "with open('output.txt', 'w') as output_file:\n",
    "    output_file.write(f\"-- {total_vertices} {total_edges}\\n\")\n",
    "\n",
    "# Write vertices and their probabilities to the output file\n",
    "with open('output.txt', 'a') as output_file:\n",
    "    for edge, probability in edge_probabilities.items():\n",
    "        src, tgt = edge\n",
    "        output_file.write(f\"{src}, {tgt}, {probability}\\n\")\n"
   ]
  },
  {
   "cell_type": "code",
   "execution_count": null,
   "metadata": {},
   "outputs": [],
   "source": []
  },
  {
   "cell_type": "code",
   "execution_count": 1,
   "metadata": {},
   "outputs": [
    {
     "ename": "ValueError",
     "evalue": "not enough values to unpack (expected 3, got 1)",
     "output_type": "error",
     "traceback": [
      "\u001b[0;31m---------------------------------------------------------------------------\u001b[0m",
      "\u001b[0;31mValueError\u001b[0m                                Traceback (most recent call last)",
      "\u001b[1;32m/home/csgroup/Uclique/data_generate.ipynb Cell 5\u001b[0m line \u001b[0;36m1\n\u001b[1;32m     <a href='vscode-notebook-cell://ssh-remote%2Bwolf/home/csgroup/Uclique/data_generate.ipynb#W4sdnNjb2RlLXJlbW90ZQ%3D%3D?line=9'>10</a>\u001b[0m \u001b[39mnext\u001b[39m(file)\n\u001b[1;32m     <a href='vscode-notebook-cell://ssh-remote%2Bwolf/home/csgroup/Uclique/data_generate.ipynb#W4sdnNjb2RlLXJlbW90ZQ%3D%3D?line=10'>11</a>\u001b[0m \u001b[39mfor\u001b[39;00m line \u001b[39min\u001b[39;00m file:\n\u001b[0;32m---> <a href='vscode-notebook-cell://ssh-remote%2Bwolf/home/csgroup/Uclique/data_generate.ipynb#W4sdnNjb2RlLXJlbW90ZQ%3D%3D?line=11'>12</a>\u001b[0m     src, tgt, unixts \u001b[39m=\u001b[39m line\u001b[39m.\u001b[39msplit()\n\u001b[1;32m     <a href='vscode-notebook-cell://ssh-remote%2Bwolf/home/csgroup/Uclique/data_generate.ipynb#W4sdnNjb2RlLXJlbW90ZQ%3D%3D?line=12'>13</a>\u001b[0m     edge \u001b[39m=\u001b[39m (src, tgt)\n\u001b[1;32m     <a href='vscode-notebook-cell://ssh-remote%2Bwolf/home/csgroup/Uclique/data_generate.ipynb#W4sdnNjb2RlLXJlbW90ZQ%3D%3D?line=14'>15</a>\u001b[0m     \u001b[39m# Increment the weight (count) for the edge using Counter\u001b[39;00m\n",
      "\u001b[0;31mValueError\u001b[0m: not enough values to unpack (expected 3, got 1)"
     ]
    }
   ],
   "source": [
    "import gzip\n",
    "import math\n",
    "from collections import Counter\n",
    "\n",
    "# Counter to store edge weights\n",
    "edge_weights = Counter()\n",
    "\n",
    "# Uncompress the dataset and read it line by line\n",
    "with open('./data/sx-askubuntu.txt', 'rt') as file:\n",
    "    next(file)\n",
    "    for line in file:\n",
    "        src, tgt, unixts = line.split()\n",
    "        edge = (src, tgt)\n",
    "        \n",
    "        # Increment the weight (count) for the edge using Counter\n",
    "        edge_weights[edge] += 1\n",
    "\n",
    "# Calculate probabilities using the exponential cumulative distribution with λ = 2\n",
    "edge_probabilities = {edge: round(1 - math.exp(-weight / 2.0), 2) for edge, weight in edge_weights.items()}\n",
    "\n",
    "# Get the total number of vertices and edges\n",
    "total_vertices = len(set(v for edge in edge_weights for v in edge))\n",
    "total_edges = len(edge_weights)\n",
    "\n",
    "# Write total vertices and total edges as the first line in the output file\n",
    "with open('output_2.txt', 'w') as output_file:\n",
    "    output_file.write(f\"-- {total_vertices} {total_edges}\\n\")\n",
    "    \n",
    "    # Write vertices and their probabilities to the output file\n",
    "    for edge, probability in edge_probabilities.items():\n",
    "        src, tgt = edge\n",
    "        output_file.write(f\"{src}, {tgt}, {probability}\\n\")\n"
   ]
  },
  {
   "cell_type": "code",
   "execution_count": 13,
   "metadata": {},
   "outputs": [
    {
     "ename": "TypeError",
     "evalue": "only size-1 arrays can be converted to Python scalars",
     "output_type": "error",
     "traceback": [
      "\u001b[0;31m---------------------------------------------------------------------------\u001b[0m",
      "\u001b[0;31mTypeError\u001b[0m                                 Traceback (most recent call last)",
      "\u001b[1;32m/home/csgroup/Uclique/data_generate.ipynb Cell 6\u001b[0m line \u001b[0;36m9\n\u001b[1;32m      <a href='vscode-notebook-cell://ssh-remote%2Bwolf/home/csgroup/Uclique/data_generate.ipynb#W6sdnNjb2RlLXJlbW90ZQ%3D%3D?line=5'>6</a>\u001b[0m \u001b[39mwith\u001b[39;00m \u001b[39mopen\u001b[39m(\u001b[39m'\u001b[39m\u001b[39m./data/sx-askubuntu.txt\u001b[39m\u001b[39m'\u001b[39m, \u001b[39m'\u001b[39m\u001b[39mw\u001b[39m\u001b[39m'\u001b[39m) \u001b[39mas\u001b[39;00m file:\n\u001b[1;32m      <a href='vscode-notebook-cell://ssh-remote%2Bwolf/home/csgroup/Uclique/data_generate.ipynb#W6sdnNjb2RlLXJlbW90ZQ%3D%3D?line=6'>7</a>\u001b[0m     file\u001b[39m.\u001b[39mwrite(file_content)\n\u001b[0;32m----> <a href='vscode-notebook-cell://ssh-remote%2Bwolf/home/csgroup/Uclique/data_generate.ipynb#W6sdnNjb2RlLXJlbW90ZQ%3D%3D?line=8'>9</a>\u001b[0m data \u001b[39m=\u001b[39m \u001b[39mint\u001b[39;49m(np\u001b[39m.\u001b[39;49mloadtxt(\u001b[39m'\u001b[39;49m\u001b[39m./data/sx-askubuntu.txt\u001b[39;49m\u001b[39m'\u001b[39;49m, delimiter\u001b[39m=\u001b[39;49m\u001b[39m'\u001b[39;49m\u001b[39m,\u001b[39;49m\u001b[39m'\u001b[39;49m, usecols\u001b[39m=\u001b[39;49m[\u001b[39m0\u001b[39;49m,\u001b[39m1\u001b[39;49m]))\n\u001b[1;32m     <a href='vscode-notebook-cell://ssh-remote%2Bwolf/home/csgroup/Uclique/data_generate.ipynb#W6sdnNjb2RlLXJlbW90ZQ%3D%3D?line=9'>10</a>\u001b[0m data[:\u001b[39m10\u001b[39m]\n",
      "\u001b[0;31mTypeError\u001b[0m: only size-1 arrays can be converted to Python scalars"
     ]
    }
   ],
   "source": [
    "import numpy as np\n",
    "with open('./data/sx-askubuntu.txt', 'r') as file:\n",
    "    file_content = file.read().replace(' ', ',')\n",
    "\n",
    "# Save the modified content back to the file\n",
    "with open('./data/sx-askubuntu.txt', 'w') as file:\n",
    "    file.write(file_content)\n",
    "\n",
    "data = np.loadtxt('./data/sx-askubuntu.txt', delimiter=',', usecols=[0,1])\n",
    "data[:10]"
   ]
  },
  {
   "cell_type": "code",
   "execution_count": 3,
   "metadata": {},
   "outputs": [
    {
     "ename": "AttributeError",
     "evalue": "module 'polt' has no attribute 'plot'",
     "output_type": "error",
     "traceback": [
      "\u001b[0;31m---------------------------------------------------------------------------\u001b[0m",
      "\u001b[0;31mAttributeError\u001b[0m                            Traceback (most recent call last)",
      "\u001b[1;32m/home/csgroup/Database_project/scripts/data_generate.ipynb Cell 7\u001b[0m line \u001b[0;36m1\n\u001b[1;32m     <a href='vscode-notebook-cell://ssh-remote%2Bwolf/home/csgroup/Database_project/scripts/data_generate.ipynb#W6sdnNjb2RlLXJlbW90ZQ%3D%3D?line=15'>16</a>\u001b[0m runtime_values_prune2 \u001b[39m=\u001b[39m []\n\u001b[1;32m     <a href='vscode-notebook-cell://ssh-remote%2Bwolf/home/csgroup/Database_project/scripts/data_generate.ipynb#W6sdnNjb2RlLXJlbW90ZQ%3D%3D?line=17'>18</a>\u001b[0m \u001b[39m# Initialize plot\u001b[39;00m\n\u001b[0;32m---> <a href='vscode-notebook-cell://ssh-remote%2Bwolf/home/csgroup/Database_project/scripts/data_generate.ipynb#W6sdnNjb2RlLXJlbW90ZQ%3D%3D?line=18'>19</a>\u001b[0m fig, ax \u001b[39m=\u001b[39m polt\u001b[39m.\u001b[39;49mplot(k_values_prune1, runtime_values_prune1, label\u001b[39m=\u001b[39m\u001b[39m'\u001b[39m\u001b[39mPrune 1\u001b[39m\u001b[39m'\u001b[39m, color\u001b[39m=\u001b[39m\u001b[39m'\u001b[39m\u001b[39mblue\u001b[39m\u001b[39m'\u001b[39m)\n\u001b[1;32m     <a href='vscode-notebook-cell://ssh-remote%2Bwolf/home/csgroup/Database_project/scripts/data_generate.ipynb#W6sdnNjb2RlLXJlbW90ZQ%3D%3D?line=19'>20</a>\u001b[0m ax\u001b[39m.\u001b[39mtwinx()\n\u001b[1;32m     <a href='vscode-notebook-cell://ssh-remote%2Bwolf/home/csgroup/Database_project/scripts/data_generate.ipynb#W6sdnNjb2RlLXJlbW90ZQ%3D%3D?line=20'>21</a>\u001b[0m ax2 \u001b[39m=\u001b[39m ax\u001b[39m.\u001b[39mtwinx()\n",
      "\u001b[0;31mAttributeError\u001b[0m: module 'polt' has no attribute 'plot'"
     ]
    }
   ],
   "source": [
    "\n",
    "import polt\n",
    "import pandas as pd\n",
    "import time\n",
    "\n",
    "# Read CSV file into DataFrame\n",
    "df = pd.read_csv('../CSV_DATA/askubuntu.csv')\n",
    "\n",
    "# Separate data for prune 1 and prune 2\n",
    "prune1_data = df[df['Prune'] == 1]\n",
    "prune2_data = df[df['Prune'] == 2]\n",
    "\n",
    "# Initialize empty lists for data points\n",
    "k_values_prune1 = []\n",
    "runtime_values_prune1 = []\n",
    "k_values_prune2 = []\n",
    "runtime_values_prune2 = []\n",
    "\n",
    "# Initialize plot\n",
    "fig, ax = polt.plot(k_values_prune1, runtime_values_prune1, label='Prune 1', color='blue')\n",
    "ax.twinx()\n",
    "ax2 = ax.twinx()\n",
    "ax2.plot(k_values_prune2, runtime_values_prune2, label='Prune 2', color='red')\n",
    "\n",
    "# Add labels and title\n",
    "ax.set_xlabel('K')\n",
    "ax.set_ylabel('Runtime')\n",
    "ax2.set_ylabel('Runtime')\n",
    "fig.suptitle('Runtime vs K')\n",
    "\n",
    "# Add legend\n",
    "fig.legend()\n",
    "\n",
    "# Simulate live data updates\n",
    "while True:\n",
    "    # Update prune 1 data\n",
    "    k_values_prune1.append(prune1_data['K'].iloc[-1])\n",
    "    runtime_values_prune1.append(prune1_data['Runtime'].iloc[-1])\n",
    "\n",
    "    # Update prune 2 data\n",
    "    k_values_prune2.append(prune2_data['K'].iloc[-1])\n",
    "    runtime_values_prune2.append(prune2_data['Runtime'].iloc[-1])\n",
    "\n",
    "    # Update plot data\n",
    "    ax.set_xdata(k_values_prune1)\n",
    "    ax.set_ydata(runtime_values_prune1)\n",
    "    ax2.set_ydata(runtime_values_prune2)\n",
    "\n",
    "    # Update plot window\n",
    "    polt.update()\n",
    "\n",
    "    # Simulate data acquisition delay\n",
    "    time.sleep(0.1)\n"
   ]
  }
 ],
 "metadata": {
  "kernelspec": {
   "display_name": "Python 3",
   "language": "python",
   "name": "python3"
  },
  "language_info": {
   "codemirror_mode": {
    "name": "ipython",
    "version": 3
   },
   "file_extension": ".py",
   "mimetype": "text/x-python",
   "name": "python",
   "nbconvert_exporter": "python",
   "pygments_lexer": "ipython3",
   "version": "3.8.18"
  }
 },
 "nbformat": 4,
 "nbformat_minor": 2
}
